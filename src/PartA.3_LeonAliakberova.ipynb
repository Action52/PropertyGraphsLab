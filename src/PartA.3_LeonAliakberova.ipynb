{
 "cells": [
  {
   "cell_type": "markdown",
   "id": "140ba427",
   "metadata": {},
   "source": [
    "# Laboratory 1: Property Graphs\n",
    "### Luis Alfredo Leon Villapún\n",
    "### Liliia Aliakberova\n",
    "\n",
    "# Part A.3 Evolving the graph\n",
    "* * *\n",
    "In this section we have to modify some parts of the data and explore how adaptable a property graph is when receiving data with a different structure than the original one. An advantage of the schemaless structure is that we can implement updates and evolve the database without the need of rethinking the structure of the schema.\n",
    "\n",
    "## Creating the connector\n",
    "As in part A.2, let's first create the connector to handle the messages with Neo4j."
   ]
  },
  {
   "cell_type": "code",
   "execution_count": 2,
   "id": "7d576a1f",
   "metadata": {},
   "outputs": [
    {
     "name": "stdout",
     "output_type": "stream",
     "text": [
      "Input your password to connect········\n"
     ]
    }
   ],
   "source": [
    "from connector import Neo4jConnector\n",
    "from getpass import getpass\n",
    "\n",
    "uri = \"neo4j://localhost:7687\"\n",
    "user = \"neo4j\"\n",
    "password = getpass(\"Input your password to connect\")\n",
    "conn = Neo4jConnector(uri, user, password)"
   ]
  },
  {
   "cell_type": "markdown",
   "id": "b16b6df6",
   "metadata": {},
   "source": [
    "## Evolving the model\n",
    "\n",
    "In this section we will perform the necessary queries to transform the data."
   ]
  },
  {
   "cell_type": "code",
   "execution_count": 13,
   "id": "88129459",
   "metadata": {},
   "outputs": [],
   "source": [
    "# Generate a csv assigning random affiliations to each author\n",
    "\n",
    "import json, random\n",
    "path = \"/Users/alfredo.leon/Desktop/SDMLab1/PropertyGraphsLab/neo4jcontainerdata/samples/authors/\"\n",
    "with open(f\"{path}authors-sample.jsonl\", \"r\") as authors_file:\n",
    "    with open(f\"{path}affiliations.csv\", \"w\") as affiliations_file:\n",
    "        affiliations_file.write(\"authorid,affiliation,afftype\\n\")\n",
    "        for author in authors_file:\n",
    "            author = json.loads(author.strip(\"\\n\"))\n",
    "            affiliations = ['Google', 'Meta', 'NVidia', 'UPC', 'ULB', 'Amazon', 'CentraleSupelec', 'UniPd']\n",
    "            types = ['company', 'company', 'company', 'university', 'university', 'company', 'university', 'university']\n",
    "            affs = [(a,t) for a,t in zip(affiliations, types)]\n",
    "            affiliation, tp = random.choice(affs)\n",
    "            affiliations_file.write(f\"{author['authorid']}, {affiliation}, {tp}\\n\")"
   ]
  },
  {
   "cell_type": "code",
   "execution_count": 14,
   "id": "f2d35af1",
   "metadata": {},
   "outputs": [],
   "source": [
    "def update_affiliations(conn):\n",
    "    query = \"\"\"\n",
    "        LOAD CSV WITH HEADERS FROM (\"file:///samples/authors/affiliations.csv\") as row\n",
    "        MATCH (a: Author{author_id: row.authorid})\n",
    "        WITH row, a\n",
    "        MERGE (a)-[:AFFILIATED_TO]->(O: Organization {name: row.affiliation, type: row.afftype})\n",
    "    \"\"\"\n",
    "    session = conn.driver.session()\n",
    "    response = list(session.run(query))\n",
    "    session.close()\n",
    "    print(\"Success\")"
   ]
  },
  {
   "cell_type": "code",
   "execution_count": 15,
   "id": "9819dc10",
   "metadata": {},
   "outputs": [
    {
     "name": "stdout",
     "output_type": "stream",
     "text": [
      "Success\n"
     ]
    }
   ],
   "source": [
    "update_affiliations(conn)"
   ]
  },
  {
   "cell_type": "code",
   "execution_count": null,
   "id": "3ef1ef66",
   "metadata": {},
   "outputs": [],
   "source": []
  }
 ],
 "metadata": {
  "kernelspec": {
   "display_name": "Python 3 (ipykernel)",
   "language": "python",
   "name": "python3"
  },
  "language_info": {
   "codemirror_mode": {
    "name": "ipython",
    "version": 3
   },
   "file_extension": ".py",
   "mimetype": "text/x-python",
   "name": "python",
   "nbconvert_exporter": "python",
   "pygments_lexer": "ipython3",
   "version": "3.9.16"
  }
 },
 "nbformat": 4,
 "nbformat_minor": 5
}

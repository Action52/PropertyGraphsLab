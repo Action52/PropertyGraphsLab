{
 "cells": [
  {
   "cell_type": "markdown",
   "id": "c7a48306",
   "metadata": {},
   "source": [
    "# Laboratory 1: Property Graphs\n",
    "### Luis Alfredo Leon Villapún\n",
    "### Liliia Aliakberova\n",
    "\n",
    "# Part A.3 Evolving the graph\n",
    "* * *\n",
    "In this section we have to modify some parts of the data and explore how adaptable a property graph is when receiving data with a different structure than the original one. An advantage of the schemaless structure is that we can implement updates and evolve the database without the need of rethinking the structure of the schema.\n",
    "\n",
    "## Creating the connector\n",
    "As in part A.2, let's first create the connector to handle the messages with Neo4j."
   ]
  },
  {
   "cell_type": "code",
   "execution_count": 16,
   "id": "9c008bd8",
   "metadata": {},
   "outputs": [
    {
     "name": "stdout",
     "output_type": "stream",
     "text": [
      "Input your password to connect········\n"
     ]
    }
   ],
   "source": [
    "from connector import Neo4jConnector\n",
    "from getpass import getpass\n",
    "\n",
    "uri = \"neo4j://localhost:7687\"\n",
    "user = \"neo4j\"\n",
    "password = getpass(\"Input your password to connect\")\n",
    "conn = Neo4jConnector(uri, user, password)"
   ]
  },
  {
   "cell_type": "markdown",
   "id": "3fe60fe8",
   "metadata": {},
   "source": [
    "## Evolving the model\n",
    "\n",
    "In this section we will perform the necessary queries to transform the data."
   ]
  },
  {
   "cell_type": "markdown",
   "id": "47ea85fb",
   "metadata": {},
   "source": [
    "### Creating the affiliations\n",
    "This part will generate random affiliations for each author."
   ]
  },
  {
   "cell_type": "code",
   "execution_count": 17,
   "id": "2975454f",
   "metadata": {},
   "outputs": [],
   "source": [
    "def update_affiliations(conn):\n",
    "    query = \"\"\"\n",
    "MATCH (a:Author)\n",
    "WITH a, apoc.coll.randomItem([{name: 'Google', type: 'Company'}, {name: 'UPC', type: 'University'}, {name: 'ULB', type: 'University'}, {name: 'Microsoft', type: 'Company'}, {name: 'Meta', type: 'Company'}, {name: 'Amazon', type: 'Company'}]) AS affiliation\n",
    "MERGE (o:Organization{Name: affiliation.name})\n",
    "MERGE (a)-[:AFFILIATED_TO{Type:affiliation.type}]->(o)\n",
    "    \"\"\"\n",
    "    session = conn.driver.session()\n",
    "    response = list(session.run(query))\n",
    "    session.close()\n",
    "    print(\"Success\")"
   ]
  },
  {
   "cell_type": "code",
   "execution_count": 18,
   "id": "8b662287",
   "metadata": {},
   "outputs": [
    {
     "name": "stdout",
     "output_type": "stream",
     "text": [
      "Success\n"
     ]
    }
   ],
   "source": [
    "update_affiliations(conn)"
   ]
  },
  {
   "cell_type": "markdown",
   "id": "5dcb6f47",
   "metadata": {},
   "source": [
    "### Adding  the content and submission status variables to the reviewed_by edges\n",
    "This section consists of a query to update the reviewed_by edges with the information regarding the content of the review, as well as the suggestion made by the reviewer."
   ]
  },
  {
   "cell_type": "code",
   "execution_count": null,
   "id": "d7dcbe43",
   "metadata": {},
   "outputs": [],
   "source": [
    "def update_reviews(conn):\n",
    "    query = \"\"\"\n",
    "\n",
    "    \"\"\""
   ]
  }
 ],
 "metadata": {
  "kernelspec": {
   "display_name": "Python 3 (ipykernel)",
   "language": "python",
   "name": "python3"
  },
  "language_info": {
   "codemirror_mode": {
    "name": "ipython",
    "version": 3
   },
   "file_extension": ".py",
   "mimetype": "text/x-python",
   "name": "python",
   "nbconvert_exporter": "python",
   "pygments_lexer": "ipython3",
   "version": "3.9.16"
  }
 },
 "nbformat": 4,
 "nbformat_minor": 5
}

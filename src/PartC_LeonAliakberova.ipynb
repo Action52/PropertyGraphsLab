{
 "cells": [
  {
   "cell_type": "markdown",
   "id": "2f1ce4aa",
   "metadata": {},
   "source": [
    "# Laboratory 1: Property Graphs\n",
    "### Luis Alfredo Leon Villapún\n",
    "### Liliia Aliakberova\n",
    "\n",
    "# Part C \n",
    "***\n",
    "In this section we will create queries for a simple recommender\n",
    "\n",
    "## Creating the connector\n",
    "\n",
    "As in previous parts, let's first create the connector to handle the messages with Neo4j."
   ]
  },
  {
   "cell_type": "code",
   "execution_count": 13,
   "id": "17854c2d",
   "metadata": {},
   "outputs": [],
   "source": [
    "# Uncomment to install extension\n",
    "#pip install ipython-cypher"
   ]
  },
  {
   "cell_type": "code",
   "execution_count": null,
   "id": "8e02f66c",
   "metadata": {},
   "outputs": [],
   "source": [
    "%load_ext cypher"
   ]
  },
  {
   "cell_type": "code",
   "execution_count": null,
   "id": "0543eb06",
   "metadata": {},
   "outputs": [],
   "source": [
    "from connector import Neo4jConnector\n",
    "from getpass import getpass\n",
    "\n",
    "uri = \"neo4j://localhost:7687\"\n",
    "user = \"neo4j\"\n",
    "password = getpass(\"Input your password to connect\")\n",
    "conn = Neo4jConnector(uri, user, password)"
   ]
  },
  {
   "cell_type": "markdown",
   "id": "cce2ece7",
   "metadata": {},
   "source": [
    "## Queries\n",
    "1. The first thing to do is to find/define the research communities. A community is defined by a set of keywords. Assume that the database community is defined through the following keywords: data management, indexing, data modeling, big data, data processing, data storage and data querying.\n"
   ]
  },
  {
   "cell_type": "code",
   "execution_count": null,
   "id": "f673adc2",
   "metadata": {},
   "outputs": [],
   "source": [
    "# From documentation site: https://neo4j.com/docs/python-manual/current/\n",
    "\n",
    "def query_1(tx):\n",
    "    result = tx.run(\n",
    "        \"\"\"\n",
    "MATCH (a:Author)<-[w:WRITTEN_BY]-(p:Paper)-[r:RELATED_TO]->(t:Topic)\n",
    "WHERE t.Keyword CONTAINS 'Data management' OR t.Keyword CONTAINS 'Indexing' OR t.Keyword CONTAINS 'Data modeling' OR t.Keyword CONTAINS 'Big data' OR t.Keyword CONTAINS 'Data processing' OR t.Keyword CONTAINS 'Data storage' OR t.Keyword CONTAINS 'Data querying'\n",
    "RETURN p.Title, a.AuthorName, t.Keyword\n",
    "        \"\"\"\n",
    "    )\n",
    "    records = list(result)\n",
    "    summary = result.consume()\n",
    "    return records, summary\n",
    "\n",
    "with conn.driver.session(database=\"neo4j\") as session:\n",
    "    records, summary = session.execute_read(query_1)\n",
    "    print(records, summary)"
   ]
  },
  {
   "cell_type": "markdown",
   "id": "bc0e315f",
   "metadata": {},
   "source": [
    "2. Next, we need to find the conferences and journals related to the database community (i.e., are specific to the field of databases). Assume that if 90% of the papers published in a conference/journal contain one of the keywords of the database community we consider that conference/journal as related to that community"
   ]
  },
  {
   "cell_type": "code",
   "execution_count": null,
   "id": "b691a786",
   "metadata": {},
   "outputs": [],
   "source": [
    "# From documentation site: https://neo4j.com/docs/python-manual/current/\n",
    "\n",
    "def query_2(tx):\n",
    "    result = tx.run(\n",
    "        \"\"\"\n",
    "        MATCH (d:Document)<-[w:PUBLISHED_AT]-(p:Paper)-[r:RELATED_TO]->(t:Topic)\n",
    "        WITH d, t, count(p) as p1, collect(p) as papers\n",
    "        UNWIND papers as p\n",
    "        WITH d, t, count(p) as p2, p1\n",
    "        WHERE (t.Keyword CONTAINS 'Data management' OR t.Keyword CONTAINS 'Indexing' OR t.Keyword CONTAINS 'Data modeling' OR t.Keyword CONTAINS 'Big data' OR t.Keyword CONTAINS 'Data processing' OR t.Keyword CONTAINS 'Data storage' OR t.Keyword CONTAINS 'Data querying')\n",
    "        AND (p2/p1 >=0.9)\n",
    "        RETURN DISTINCT d.Title as Paper_Title, d.DocumentType as Publication_Type\n",
    "        \"\"\"\n",
    "    )\n",
    "    records = list(result)\n",
    "    summary = result.consume()\n",
    "    return records, summary\n",
    "\n",
    "with conn.driver.session(database=\"neo4j\") as session:\n",
    "    records, summary = session.execute_read(query_2)\n",
    "    print(records, summary)"
   ]
  },
  {
   "cell_type": "markdown",
   "id": "a122ac5d",
   "metadata": {},
   "source": [
    "3. Next, we want to identify the top papers of these conferences/journals. We need to find the papers with the highest page rank provided the number of citations from the papers of the same community (papers in the conferences/journals of the database community). As a result we would obtain (highlight), say, the top-100 papers of the conferences of the database community.\n",
    "\n",
    "   Performing the quiery consists of several following steps"
   ]
  },
  {
   "cell_type": "markdown",
   "id": "91a8adbc",
   "metadata": {},
   "source": [
    "    I step is creating the node \"Community\" with the label \"name\""
   ]
  },
  {
   "cell_type": "code",
   "execution_count": null,
   "id": "85dc00aa",
   "metadata": {},
   "outputs": [],
   "source": [
    "def query_3I(tx):\n",
    "    result = tx.run(\n",
    "        \"\"\"\n",
    "        create (:Community {name:'data'}) \n",
    "        \"\"\"\n",
    "    )\n",
    "    records = list(result)\n",
    "    summary = result.consume()\n",
    "    return records, summary\n",
    "\n",
    "with conn.driver.session(database=\"neo4j\") as session:\n",
    "    records, summary = session.execute_read(query_3I)\n",
    "    print(records, summary)"
   ]
  },
  {
   "cell_type": "markdown",
   "id": "d7bf56f2",
   "metadata": {},
   "source": [
    "    II step is creating the edge \"CONSTITUTE\""
   ]
  },
  {
   "cell_type": "code",
   "execution_count": null,
   "id": "ee9785ec",
   "metadata": {},
   "outputs": [],
   "source": [
    "def query_3II(tx):\n",
    "    result = tx.run(\n",
    "        \"\"\"\n",
    "        match (c:Community {name:'data'})\n",
    "        match (t:Topic)\n",
    "        where kw.word in ['Data management', 'Indexing', 'Data modeling', 'Big data', 'Data processing', 'Data storage' , 'Data querying']\n",
    "        merge (t)-[:CONSTITUTE]->(c)  \n",
    "        \"\"\"\n",
    "    )\n",
    "    records = list(result)\n",
    "    summary = result.consume()\n",
    "    return records, summary\n",
    "\n",
    "with conn.driver.session(database=\"neo4j\") as session:\n",
    "    records, summary = session.execute_read(query_3II)\n",
    "    print(records, summary)"
   ]
  },
  {
   "cell_type": "markdown",
   "id": "ca03b0ac",
   "metadata": {},
   "source": [
    "    III step is creating a \"Datacommunity\" subgraph"
   ]
  },
  {
   "cell_type": "code",
   "execution_count": null,
   "id": "35f1fc76",
   "metadata": {},
   "outputs": [],
   "source": [
    "def query_3III(tx):\n",
    "    result = tx.run(\n",
    "        \"\"\"\n",
    "        CALL gds.graph.project.cypher('Datacommunity',\n",
    "        'MATCH (p:Paper)-[r:RELATED_TO]->(t:Topic)-[c:CONSTITUTE]->(com:Community) WHERE com.name=\"data\" RETURN id(p) AS id',\n",
    "        'MATCH (com2:Community)<-[c2:CONSTITUTE]-(t2:Topic)<-[r2:RELATED_TO]-(p2:Paper)<-[cit:CITED_BY]-(p1:Paper)-[r1:RELATED_TO]->(t1:Topic)-[c1:CONSTITUTE]->(com1:Community) WHERE com1.name=\"data\" AND com2.name=\"data\" RETURN id(p1) AS source, id(p2) AS target')\n",
    "        YIELD\n",
    "        graphName AS graph, nodeQuery, nodeCount AS nodes, relationshipQuery, relationshipCount AS rels  \n",
    "        \"\"\"\n",
    "    )\n",
    "    records = list(result)\n",
    "    summary = result.consume()\n",
    "    return records, summary\n",
    "\n",
    "with conn.driver.session(database=\"neo4j\") as session:\n",
    "    records, summary = session.execute_read(query_3III)\n",
    "    print(records, summary)"
   ]
  },
  {
   "cell_type": "markdown",
   "id": "9be09873",
   "metadata": {},
   "source": [
    "    IV step is performimg the query"
   ]
  },
  {
   "cell_type": "code",
   "execution_count": null,
   "id": "509d016f",
   "metadata": {},
   "outputs": [],
   "source": [
    "def query_3IV(tx):\n",
    "    result = tx.run(\n",
    "        \"\"\"\n",
    "        MATCH (d:Document)<-[w:PUBLISHED_AT]-(p:Paper)-[r:RELATED_TO]->(t:Topic)\n",
    "        WITH d, t, count(p) as p1, collect(p) as papers\n",
    "        UNWIND papers as p\n",
    "        WITH p, d, t, count(p) as p2, p1\n",
    "        WHERE (t.Keyword CONTAINS 'Data management' OR t.Keyword CONTAINS 'Indexing' OR t.Keyword CONTAINS 'Data modeling' OR t.Keyword CONTAINS 'Big data' OR t.Keyword CONTAINS 'Data processing' OR t.Keyword CONTAINS 'Data storage' OR t.Keyword CONTAINS 'Data querying')\n",
    "        AND (p2/p1 >=0.9)\n",
    "        WITH collect (p.Title) as Papers\n",
    "        CALL gds.pageRank.stream('Datacommunity')\n",
    "        YIELD nodeId, score\n",
    "        WHERE gds.util.asNode(nodeId).Title in Papers\n",
    "        RETURN gds.util.asNode(nodeId).Title as papers, score\n",
    "        ORDER by score desc\n",
    "        LIMIT 100   \n",
    "        \"\"\"\n",
    "    )\n",
    "    records = list(result)\n",
    "    summary = result.consume()\n",
    "    return records, summary\n",
    "\n",
    "with conn.driver.session(database=\"neo4j\") as session:\n",
    "    records, summary = session.execute_read(query_3IV)\n",
    "    print(records, summary)"
   ]
  },
  {
   "cell_type": "markdown",
   "id": "84bdfb06",
   "metadata": {},
   "source": [
    "4. Finally, an author of any of these top-100 papers is automatically considered a potential good match to review database papers. In addition, we want to identify gurus, i.e., very reputated authors that would be able to review for top conferences. We identify gurus as those authors that are authors of, at least, two papers among the top-100 identified."
   ]
  },
  {
   "cell_type": "code",
   "execution_count": null,
   "id": "9b5f652f",
   "metadata": {},
   "outputs": [],
   "source": [
    "def query_4(tx):\n",
    "    result = tx.run(\n",
    "        \"\"\"\n",
    "        MATCH (d:Document)<-[w:PUBLISHED_AT]-(p:Paper)-[r:RELATED_TO]->(t:Topic)\n",
    "        WITH d, t, count(p) as p1, collect(p) as papers\n",
    "        UNWIND papers as p\n",
    "        WITH p, d, t, count(p) as p2, p1\n",
    "        WHERE (t.Keyword CONTAINS 'Data management' OR t.Keyword CONTAINS 'Indexing' OR t.Keyword CONTAINS 'Data modeling' OR t.Keyword CONTAINS 'Big data' OR t.Keyword CONTAINS 'Data processing' OR t.Keyword CONTAINS 'Data storage' OR t.Keyword CONTAINS 'Data querying')\n",
    "        AND (p2/p1 >=0.9)\n",
    "        WITH collect (p.Title) as Papers\n",
    "        CALL gds.pageRank.stream('Datacommunity')\n",
    "        YIELD nodeId, score\n",
    "        WHERE gds.util.asNode(nodeId).Title in Papers\n",
    "        WITH gds.util.asNode(nodeId) as papers, score\n",
    "        ORDER by score desc\n",
    "        LIMIT 100\n",
    "        MATCH (a:Author)<-[WRITTEN_BY]-(papers)\n",
    "        WITH a, count(DISTINCT papers) as papers_number\n",
    "        WHERE papers_number>1\n",
    "        RETURN DISTINCT a.AuthorName as Gurus  \n",
    "        \"\"\"\n",
    "    )\n",
    "    records = list(result)\n",
    "    summary = result.consume()\n",
    "    return records, summary\n",
    "\n",
    "with conn.driver.session(database=\"neo4j\") as session:\n",
    "    records, summary = session.execute_read(query_4)\n",
    "    print(records, summary)"
   ]
  }
 ],
 "metadata": {
  "kernelspec": {
   "display_name": "Python 3 (ipykernel)",
   "language": "python",
   "name": "python3"
  },
  "language_info": {
   "codemirror_mode": {
    "name": "ipython",
    "version": 3
   },
   "file_extension": ".py",
   "mimetype": "text/x-python",
   "name": "python",
   "nbconvert_exporter": "python",
   "pygments_lexer": "ipython3",
   "version": "3.11.0"
  }
 },
 "nbformat": 4,
 "nbformat_minor": 5
}
